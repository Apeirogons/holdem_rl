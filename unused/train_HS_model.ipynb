{
 "cells": [
  {
   "cell_type": "markdown",
   "metadata": {},
   "source": [
    "### To speed up the really common HS calculation, we are going to train a neural network to do it. "
   ]
  },
  {
   "cell_type": "code",
   "execution_count": 1,
   "metadata": {},
   "outputs": [
    {
     "output_type": "stream",
     "name": "stderr",
     "text": "Using TensorFlow backend.\n"
    }
   ],
   "source": [
    "from fast_utils.hand_strength.original_HS import *\n",
    "from fast_utils.hand_strength.nn_HS import encode_hs\n",
    "from sklearn.model_selection import train_test_split\n",
    "from pickle import dump, load\n",
    "from keras.models import Sequential\n",
    "from keras.layers import Dense\n",
    "import numpy as np\n",
    "from random import choice"
   ]
  },
  {
   "cell_type": "code",
   "execution_count": 2,
   "metadata": {},
   "outputs": [],
   "source": [
    "try: \n",
    "    encodings = load(open('fast_utils/hand_strength/original_HS_training_x.pickle','rb'))\n",
    "    HSs = load(open('fast_utils/hand_strength/original_HS_training_y.pickle','rb'))\n",
    "except FileNotFoundError:\n",
    "    d = Deck()\n",
    "    en = EvaluatorN()\n",
    "\n",
    "    encodings = []\n",
    "    HSs = []\n",
    "\n",
    "    for board_i in range(10000):\n",
    "        d.shuffle()\n",
    "        board = d.draw(choice([3,4,5]))\n",
    "        all_evals = all_evaluation(board, en)\n",
    "\n",
    "        for hand_i in range(100):\n",
    "            d.shuffle()\n",
    "            d.remove(board)\n",
    "            our_hand = d.draw(2)\n",
    "            encodings.append(encode_hs(our_hand, board, en))\n",
    "            HSs.append(original_hand_strength(our_hand, all_evals))\n",
    "        if board_i % 100 == 0:\n",
    "            print(board_i)\n",
    "    dump(encodings, open('fast_utils/hand_strength/original_HS_training_x.pickle','wb'))\n",
    "    dump(HSs, open('fast_utils/hand_strength/original_HS_training_y.pickle','wb'))\n"
   ]
  },
  {
   "cell_type": "code",
   "execution_count": 3,
   "metadata": {},
   "outputs": [],
   "source": [
    "x_train, x_test, y_train, y_test = train_test_split(np.asarray(encodings), np.asarray(HSs), test_size=0.05)"
   ]
  },
  {
   "cell_type": "code",
   "execution_count": 5,
   "metadata": {},
   "outputs": [
    {
     "output_type": "stream",
     "name": "stdout",
     "text": "Train on 1281582 samples, validate on 67452 samples\nEpoch 1/5\n1281582/1281582 [==============================] - 48s 38us/step - loss: 0.0054 - mean_absolute_error: 0.0465 - val_loss: 0.0022 - val_mean_absolute_error: 0.0319\nEpoch 2/5\n1281582/1281582 [==============================] - 51s 40us/step - loss: 0.0016 - mean_absolute_error: 0.0252 - val_loss: 0.0015 - val_mean_absolute_error: 0.0248\nEpoch 3/5\n1281582/1281582 [==============================] - 53s 42us/step - loss: 0.0012 - mean_absolute_error: 0.0218 - val_loss: 0.0012 - val_mean_absolute_error: 0.0213\nEpoch 4/5\n1281582/1281582 [==============================] - 48s 38us/step - loss: 0.0011 - mean_absolute_error: 0.0201 - val_loss: 9.4693e-04 - val_mean_absolute_error: 0.0186\nEpoch 5/5\n1281582/1281582 [==============================] - 55s 43us/step - loss: 9.5553e-04 - mean_absolute_error: 0.0191 - val_loss: 9.5029e-04 - val_mean_absolute_error: 0.0196\n"
    },
    {
     "output_type": "execute_result",
     "data": {
      "text/plain": "<keras.callbacks.History at 0x1815cd67f28>"
     },
     "metadata": {},
     "execution_count": 5
    }
   ],
   "source": [
    "model = Sequential()\n",
    "model.add(Dense(128, activation='relu'))\n",
    "model.add(Dense(64, activation='relu'))\n",
    "model.add(Dense(1, activation='linear'))\n",
    "model.compile(optimizer='adam', loss='mse', metrics=['mae'])\n",
    "\n",
    "model.fit(x_train, y_train, validation_data=(x_test, y_test), epochs=5)\n"
   ]
  },
  {
   "cell_type": "code",
   "execution_count": 6,
   "metadata": {},
   "outputs": [],
   "source": [
    "model.save(\"fast_utils/hand_strength/HS_model.h5\")"
   ]
  }
 ],
 "metadata": {
  "language_info": {
   "codemirror_mode": {
    "name": "ipython",
    "version": 3
   },
   "file_extension": ".py",
   "mimetype": "text/x-python",
   "name": "python",
   "nbconvert_exporter": "python",
   "pygments_lexer": "ipython3",
   "version": "3.6.8-final"
  },
  "orig_nbformat": 2,
  "kernelspec": {
   "name": "python36864bit8c6495d42d63455699a3c1e7b3c8e30a",
   "display_name": "Python 3.6.8 64-bit"
  }
 },
 "nbformat": 4,
 "nbformat_minor": 2
}